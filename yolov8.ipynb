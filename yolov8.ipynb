{
 "cells": [
  {
   "cell_type": "markdown",
   "id": "b11dbdd5",
   "metadata": {},
   "source": [
    "yolo는 dataset/images/train, dataset/images/valid 형식을 이용해야 함... <br/>\n",
    "k fold (k = 5) json 기준으로 5개의 폴더 내에 train, valid 파일을 각각 복사하여 제작"
   ]
  },
  {
   "cell_type": "code",
   "execution_count": null,
   "id": "be9a8e25-cc8e-4b9b-934a-63f388d4f6a4",
   "metadata": {
    "tags": []
   },
   "outputs": [],
   "source": [
    "from sklearn.model_selection import train_test_split\n",
    "import json\n",
    "import shutil\n",
    "from tqdm import tqdm\n",
    "\n",
    "# json 파일에 들어있는 validation용 이미지를 이용하여 valid 폴더에 이미지를 복사합니다.\n",
    "for j in range(5):\n",
    "    with open('/opt/ml/dataset/kfold' + str(j) + '_train.json', 'r') as f:\n",
    "        dataset = json.load(f)\n",
    "\n",
    "    for i in tqdm(dataset['images']):\n",
    "        shutil.copyfile('/opt/ml/dataset/images/' + i['file_name'], '/opt/ml/dataset/images_fold' + str(j) + '/train/' + i['file_name'][6:])\n",
    "    \n",
    "for j in range(5):\n",
    "    with open('/opt/ml/dataset/kfold' + str(j) + '_val.json', 'r') as f:\n",
    "        dataset = json.load(f)\n",
    "\n",
    "    for i in tqdm(dataset['images']):\n",
    "        shutil.copyfile('/opt/ml/dataset/images/' + i['file_name'], '/opt/ml/dataset/images_fold' + str(j) + '/valid/' + i['file_name'][6:])"
   ]
  },
  {
   "cell_type": "markdown",
   "id": "9a2f61fd",
   "metadata": {},
   "source": [
    "yolo는 dataset/images/train, dataset/images/valid 형식을 이용해야 함... <br/>\n",
    "random split으로 만들어진 json 기준으로 5개의 폴더 내에 train, valid 파일을 각각 복사하여 제작"
   ]
  },
  {
   "cell_type": "code",
   "execution_count": null,
   "id": "b6c5ac74-928d-4915-8a91-6266d2af7b09",
   "metadata": {
    "tags": []
   },
   "outputs": [],
   "source": [
    "from sklearn.model_selection import train_test_split\n",
    "import json\n",
    "import shutil\n",
    "from tqdm import tqdm\n",
    "\n",
    "# json 파일에 들어있는 validation용 이미지를 이용하여 valid 폴더에 이미지를 복사합니다.\n",
    "with open('/opt/ml/dataset/train_split.json', 'r') as f:\n",
    "    dataset = json.load(f)\n",
    "\n",
    "for i in tqdm(dataset['images']):\n",
    "    shutil.copyfile('/opt/ml/dataset/images/' + i['file_name'], '/opt/ml/dataset/split_images/train/' + i['file_name'][6:])\n",
    "    \n",
    "with open('/opt/ml/dataset/val_split.json', 'r') as f:\n",
    "    dataset = json.load(f)\n",
    "\n",
    "for i in tqdm(dataset['images']):\n",
    "    shutil.copyfile('/opt/ml/dataset/images/' + i['file_name'], '/opt/ml/dataset/split_images/valid/' + i['file_name'][6:])"
   ]
  },
  {
   "cell_type": "markdown",
   "id": "df90a2f5",
   "metadata": {},
   "source": [
    "https://github.com/Kim-jy0819/yolov8 깃허브 참조 <br/><br/>\n",
    "\n",
    "dataset/labels 폴더에 이미지의 객체 정보를 저장하는 txt 파일이 존재해야 함... -> coco2yolo.py 폴더가 이를 해결함 <br/>\n",
    "!python coco2yolo.py -j /opt/ml/dataset/train.json -o /opt/ml/dataset/labels/ <br/>\n",
    "위 코드를 입력하면 kfold4_train.json 폴더의 내용을 기반으로 이미지의 annotation을 txt 파일로 생성하여 -o 뒤의 경로에 생성 <br/><br/>\n",
    "\n",
    "단, json 파일은 기본적으로 train/0000.jpg의 이름을 가지고 있으므로 train 폴더가 반드시 생성됨 <br/>\n",
    "따라서 train 내에 생성된 파일들을 valid 파일로 옮기거나, json의 값을 추출할때 train을 사용하지 않도록 coco2yolo.py를 수정해야 함"
   ]
  },
  {
   "cell_type": "code",
   "execution_count": null,
   "id": "0cd5cb88-6830-4105-9aea-5c165233dbf9",
   "metadata": {
    "tags": []
   },
   "outputs": [],
   "source": [
    "!python coco2yolo.py -j /opt/ml/dataset/train.json -o /opt/ml/dataset/labels/"
   ]
  },
  {
   "cell_type": "code",
   "execution_count": null,
   "id": "098ceb5d-a92a-4b19-add9-8d4ae83f0adb",
   "metadata": {
    "tags": []
   },
   "outputs": [],
   "source": [
    "# train.py에서 epoch, imgsz 등의 학습 설정 수정 가능\n",
    "# ultralytics/yolo/cfg/default.yaml 에 기본적인 학습 정보가 존재\n",
    "# ultralytics/yolo/engine/trainer.py에서 train loss 및 mAP metric 정보를 얻을 수 있음\n",
    "# ultralytics/yolo/engine/validator.py에서 validation loss를 얻을 수 있음\n",
    "\n",
    "# dataset/images, dataset/labels를 이용해야 하므로 학습을 위해 폴더 이름을 변경시켜둠\n",
    "import os\n",
    "\n",
    "os.rename('/opt/ml/dataset/split_labels', '/opt/ml/dataset/labels')\n",
    "os.rename('/opt/ml/dataset/split_images', '/opt/ml/dataset/images')\n",
    "\n",
    "!python train.py\n",
    "\n",
    "os.rename('/opt/ml/dataset/labels', '/opt/ml/dataset/split_labels')\n",
    "os.rename('/opt/ml/dataset/images', '/opt/ml/dataset/split_images')"
   ]
  },
  {
   "cell_type": "code",
   "execution_count": null,
   "id": "ac983601-b44c-4043-82d5-56b7aada4bca",
   "metadata": {},
   "outputs": [],
   "source": [
    "from ultralytics import YOLO\n",
    "import wandb\n",
    "import os\n",
    "\n",
    "model = YOLO(\"/opt/ml/yolov8/runs/detect/train5/weights/last.pt\")\n",
    "\n",
    "model.train(data = \"recycle.yaml\",  # 데이터의 형식과 클래스의 이름\n",
    "            # Train settings\n",
    "            name = 'retrain', #결과를 저장할 폴더 이름\n",
    "            epochs = 50,\n",
    "            imgsz = 512, # 이미지 크기 조정\n",
    "            pretrained = True,\n",
    "            close_mosaic = 10,\n",
    "            patience = 25, # 25 epoch동안 성능의 상승이 없으면 early stopping\n",
    "            \n",
    "            \n",
    "            # Val/Test settings\n",
    "            val = False, # validation 자체를 사용할지 말지에 대한 여부\n",
    "            split = 'train', # [train,val, test]\n",
    "            max_det = 100,  # maximum number of detections per image default: 300\n",
    "            #iou = 0.7,  # intersection over union (IoU) threshold for NMS default:0.7\n",
    "            \n",
    "            # Hyperparameters\n",
    "            fl_gamma = 1.5, # focal loss\n",
    "            \n",
    "            flipud = 0.33,\n",
    "            fliplr = 0.33,\n",
    "            mosaic = 1.0,\n",
    "            \n",
    ")  # train the model"
   ]
  },
  {
   "cell_type": "code",
   "execution_count": null,
   "id": "60394ac2-1898-4d42-ae6a-a958d491ceae",
   "metadata": {},
   "outputs": [],
   "source": [
    "# 모델 경로를 넣고 제출용 csv를 만드는 용도의 inference\n",
    "!python inference.py --model /opt/ml/yolov8/runs/detect/retrain4/weights/best.pt"
   ]
  },
  {
   "cell_type": "code",
   "execution_count": null,
   "id": "45913f26-1985-41b2-982d-618c90b4fba0",
   "metadata": {},
   "outputs": [],
   "source": []
  }
 ],
 "metadata": {
  "kernelspec": {
   "display_name": "Python 3 (ipykernel)",
   "language": "python",
   "name": "python3"
  },
  "language_info": {
   "codemirror_mode": {
    "name": "ipython",
    "version": 3
   },
   "file_extension": ".py",
   "mimetype": "text/x-python",
   "name": "python",
   "nbconvert_exporter": "python",
   "pygments_lexer": "ipython3",
   "version": "3.9.13"
  }
 },
 "nbformat": 4,
 "nbformat_minor": 5
}
